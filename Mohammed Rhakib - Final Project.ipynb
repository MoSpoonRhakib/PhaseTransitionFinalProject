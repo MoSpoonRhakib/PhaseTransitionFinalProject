{
 "cells": [
  {
   "cell_type": "markdown",
   "metadata": {},
   "source": [
    "# Phase Transition Final Project"
   ]
  },
  {
   "cell_type": "markdown",
   "metadata": {},
   "source": [
    "Kawasaki Dynamics\n",
    "\n",
    "- Ising model have fixed spins. Don't change during simulation, but allowed to move (as in swap places)\n",
    "- Movement Rules\n",
    "1) For particles, A and B, if spins are the same, do nothing\n",
    "2) if spins A and B are different, then calculate current system energy (E) and system energy if places were swapped (E')\n",
    "3) Calculate probabilities according to Boltzmann distributions, p and p' respectively\n",
    "4) With probability, p'/ p + p', if it hits, then swap the particles. \n",
    "\n",
    "\n",
    "Goal is to decrease the energy for every step\n",
    "\n",
    "\n",
    "Link: https://rf.mokslasplius.lt/kawasaki-ising-model/\n",
    "\n",
    "JS link: https://github.com/physrisk/website-source/blob/main/uploads/models/physics-models/ising-model/kawasaki.js"
   ]
  }
 ],
 "metadata": {
  "language_info": {
   "name": "python"
  }
 },
 "nbformat": 4,
 "nbformat_minor": 2
}
