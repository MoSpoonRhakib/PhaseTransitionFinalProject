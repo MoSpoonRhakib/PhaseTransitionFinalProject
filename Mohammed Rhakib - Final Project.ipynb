{
 "cells": [
  {
   "cell_type": "markdown",
   "metadata": {},
   "source": [
    "# Phase Transition Final Project"
   ]
  },
  {
   "cell_type": "markdown",
   "metadata": {},
   "source": [
    "Kawasaki Dynamics\n",
    "\n",
    "- Ising model have fixed spins. Don't change during simulation, but allowed to move (as in swap places)\n",
    "- Movement Rules\n",
    "1) For particles, A and B, if spins are the same, do nothing\n",
    "2) if spins A and B are different, then calculate current system energy (E) and system energy if places were swapped (E')\n",
    "3) Calculate probabilities according to Boltzmann distributions, p and p' respectively\n",
    "4) With probability, p'/ p + p', if it hits, then swap the particles. \n",
    "\n",
    "\n",
    "Goal is to decrease the energy for every step\n",
    "\n",
    "\n",
    "Link: https://rf.mokslasplius.lt/kawasaki-ising-model/\n",
    "\n",
    "JS link: https://github.com/physrisk/website-source/blob/main/uploads/models/physics-models/ising-model/kawasaki.js"
   ]
  },
  {
   "cell_type": "markdown",
   "metadata": {},
   "source": [
    "# \n",
    "Farkas Paper Notes\n",
    "\n",
    "Simulation Details\n",
    "\n",
    "MxN lattice (M = 400; N = 80)\n",
    "periodic in x-direction\n",
    "non-periodic in y-direction\n",
    "3 main states (active, inactive, and refractory), but it can be split into more states \n",
    "\n",
    "Total activation effect factors in local and global interactions\n",
    "\n"
   ]
  },
  {
   "cell_type": "code",
   "execution_count": 1,
   "metadata": {},
   "outputs": [
    {
     "name": "stdout",
     "output_type": "stream",
     "text": [
      "[[0. 0. 0. ... 0. 0. 0.]\n",
      " [0. 0. 0. ... 0. 0. 0.]\n",
      " [0. 0. 0. ... 0. 0. 0.]\n",
      " ...\n",
      " [0. 0. 0. ... 0. 0. 0.]\n",
      " [0. 0. 0. ... 0. 0. 0.]\n",
      " [0. 0. 0. ... 0. 0. 0.]]\n"
     ]
    }
   ],
   "source": [
    "import numpy as np\n",
    "\n",
    "M = 400\n",
    "N = 80\n",
    "\n",
    "# Create a 2D lattice grid\n",
    "lattice = np.zeros((M, N))\n",
    "\n",
    "# Apply periodic boundary conditions on the x-axis\n",
    "for i in range(M):\n",
    "    lattice[i, 0] = lattice[i, N-1]\n",
    "    lattice[i, N-1] = lattice[i, 0]\n",
    "\n",
    "print(lattice)\n"
   ]
  }
 ],
 "metadata": {
  "kernelspec": {
   "display_name": "base",
   "language": "python",
   "name": "python3"
  },
  "language_info": {
   "codemirror_mode": {
    "name": "ipython",
    "version": 3
   },
   "file_extension": ".py",
   "mimetype": "text/x-python",
   "name": "python",
   "nbconvert_exporter": "python",
   "pygments_lexer": "ipython3",
   "version": "3.12.4"
  }
 },
 "nbformat": 4,
 "nbformat_minor": 2
}
