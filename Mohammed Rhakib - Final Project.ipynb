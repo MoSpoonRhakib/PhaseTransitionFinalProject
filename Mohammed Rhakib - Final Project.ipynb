{
 "cells": [
  {
   "cell_type": "markdown",
   "metadata": {},
   "source": [
    "# Phase Transition Final Project"
   ]
  },
  {
   "cell_type": "markdown",
   "metadata": {},
   "source": [
    "Kawasaki Dynamics\n",
    "\n",
    "- Ising model have fixed spins. Don't change during simulation, but allowed to move (as in swap places)\n",
    "- Movement Rules\n",
    "1) For particles, A and B, if spins are the same, do nothing\n",
    "2) if spins A and B are different, then calculate current system energy (E) and system energy if places were swapped (E')\n",
    "3) Calculate probabilities according to Boltzmann distributions, p and p' respectively\n",
    "4) With probability, p'/ p + p', if it hits, then swap the particles. \n",
    "\n",
    "\n",
    "Goal is to decrease the energy for every step\n",
    "\n",
    "\n",
    "Link: https://rf.mokslasplius.lt/kawasaki-ising-model/\n",
    "\n",
    "JS link: https://github.com/physrisk/website-source/blob/main/uploads/models/physics-models/ising-model/kawasaki.js"
   ]
  },
  {
   "cell_type": "markdown",
   "metadata": {},
   "source": [
    "# \n",
    "Farkas Paper Notes\n",
    "\n",
    "Simulation Details\n",
    "\n",
    "MxN lattice (M = 400; N = 80)\n",
    "periodic in x-direction\n",
    "non-periodic in y-direction\n",
    "3 main states (active, inactive, and refractory), but it can be split into more states \n",
    "\n",
    "Total activation effect factors in local and global interactions\n",
    "\n"
   ]
  },
  {
   "cell_type": "markdown",
   "metadata": {},
   "source": [
    "# Wave Propagation in All Directions\n"
   ]
  },
  {
   "cell_type": "code",
   "execution_count": 6,
   "metadata": {},
   "outputs": [
    {
     "name": "stderr",
     "output_type": "stream",
     "text": [
      "MovieWriter imagemagick unavailable; using Pillow instead.\n"
     ]
    },
    {
     "name": "stdout",
     "output_type": "stream",
     "text": [
      "Animation saved as MexicanWave.gif\n"
     ]
    },
    {
     "data": {
      "image/png": "[encoded data removed]",
      "text/plain": [
       "<Figure size 1200x600 with 1 Axes>"
      ]
     },
     "metadata": {},
     "output_type": "display_data"
    }
   ],
   "source": [
    "import numpy as np\n",
    "import matplotlib.pyplot as plt\n",
    "import matplotlib.animation as animation\n",
    "from matplotlib.colors import ListedColormap\n",
    "\n",
    "#Parameters\n",
    "GRID_SIZE = (50,50) #Rows, Columns\n",
    "THRESHOLD = 1.0 #Activation threshold \n",
    "SPONTANEOUS_PROB = 0.00\n",
    "REFRACTORY_PERIOD = 20  \n",
    "CUTOFF_RADIUS = 3  \n",
    "MAX_ITERATIONS = 80   \n",
    "SENSITIVITY_CONTROL = 1.0  #Control parameter that affects wave propagation  \n",
    "R = 3.0 #Characteristic length for local interactions\n",
    "\n",
    "# Initialize grid: 0 (excitable), 1 (active), -1 (refractory)\n",
    "lattice = np.zeros(GRID_SIZE, dtype=int)\n",
    "refractory_counters = np.zeros(GRID_SIZE, dtype=int)  # Track refractory time\n",
    "\n",
    "#Small little nucleation site\n",
    "center_x, center_y = GRID_SIZE[0] // 2, GRID_SIZE[1] // 2\n",
    "lattice[center_x - 1:center_x + 1, center_y - 1:center_y + 1] = 1\n",
    "\n",
    "\n",
    "\n",
    "#Create a weight matrix for the Mexican wave as this describes neighbor influence\n",
    "def create_weight_matrix(radius):\n",
    "    weight_matrix = np.zeros((2*radius+1, 2*radius+1))\n",
    "    for dx in range(-radius, radius + 1):\n",
    "        for dy in range(-radius, radius + 1):\n",
    "            distance = np.sqrt(dx**2 + dy**2)\n",
    "            if distance <= radius:\n",
    "                weight_matrix[dx + radius, dy + radius] = np.exp(-distance / R)\n",
    "    return weight_matrix    \n",
    "\n",
    "weights = create_weight_matrix(CUTOFF_RADIUS)\n",
    "\n",
    "\n",
    "\n",
    "#Global interactions\n",
    "def compute_global_interaction(lattice, x, y, sensitivity_control):\n",
    "    rows, cols = lattice.shape\n",
    "    total_active_distance = 0\n",
    "    weight_sum = 0\n",
    "\n",
    "    for j in range(cols):\n",
    "        if j != y:\n",
    "            distance = min(abs(j - y), cols - abs(j - y))\n",
    "            weight = np.exp(-distance / R)  \n",
    "            total_active_distance += weight * (lattice[x, j] == 1)\n",
    "            weight_sum += weight\n",
    "\n",
    "\n",
    "    x_average = total_active_distance / (weight_sum + 1e-10)\n",
    "    velocity = x_average - y\n",
    "\n",
    "\n",
    "    if velocity < 0:\n",
    "        return np.exp(-sensitivity_control * velocity)\n",
    "    else:\n",
    "        return 1\n",
    "\n",
    "\n",
    "\n",
    "def update_wave(lattice, refractory_counters):\n",
    "    new_grid = np.copy(lattice)\n",
    "    rows, cols, = lattice.shape\n",
    "\n",
    "    for x in range(rows):\n",
    "        for y in range(cols):\n",
    "            if lattice[x, y] == 0:\n",
    "                #Local influence\n",
    "                local_influence = 0\n",
    "                for i in range(-CUTOFF_RADIUS, CUTOFF_RADIUS + 1):\n",
    "                    for j in range(-CUTOFF_RADIUS, CUTOFF_RADIUS + 1):\n",
    "                        nx = x + i\n",
    "                        ny = (y + j) % cols #Periodic boundary conditions\n",
    "\n",
    "                        if 0 <= nx < rows and lattice[nx, ny] == 1:\n",
    "                            local_influence += weights[i + CUTOFF_RADIUS, j + CUTOFF_RADIUS]\n",
    "\n",
    "                #Global influence\n",
    "                global_influence = compute_global_interaction(lattice, x, y, SENSITIVITY_CONTROL)\n",
    "\n",
    "                #Total influence\n",
    "                total_influence = local_influence * global_influence\n",
    "\n",
    "\n",
    "                # Activation conditions\n",
    "                if total_influence >= THRESHOLD:\n",
    "                    new_grid[x,y] = 1 #Activate\n",
    "            elif lattice[x, y] == 1:\n",
    "                new_grid[x,y] = -1 #Refractory state\n",
    "                refractory_counters[x, y] = REFRACTORY_PERIOD #Set refractory counter\n",
    "            elif lattice[x,y] == -1:\n",
    "                refractory_counters[x, y] -= 1\n",
    "                if refractory_counters[x, y] <= 0:\n",
    "                    new_grid[x, y] = 0\n",
    "\n",
    "    return new_grid\n",
    "\n",
    "# Simulate the Mexican wave\n",
    "fig, ax = plt.subplots(figsize=(12,6))\n",
    "cmap = ListedColormap(['red', 'white', 'black'])\n",
    "norm = plt.Normalize(vmin=-1, vmax=1)\n",
    "\n",
    "cax = ax.matshow(lattice, cmap=cmap, norm=norm)\n",
    "plt.xticks([])\n",
    "plt.yticks([])\n",
    "\n",
    "\n",
    "def animate(frame):\n",
    "    global lattice, refractory_counters\n",
    "    lattice = update_wave(lattice, refractory_counters)\n",
    "    cax.set_data(lattice)\n",
    "    return [cax]\n",
    "\n",
    "ani = animation.FuncAnimation(fig, animate, frames=MAX_ITERATIONS, interval=200, blit=True)\n",
    "\n",
    "ani.save('MexicanWave.gif', writer='imagemagick', fps=5)\n",
    "\n",
    "print('Animation saved as MexicanWave.gif')\n",
    "\n",
    "\n",
    "\n"
   ]
  },
  {
   "cell_type": "markdown",
   "metadata": {},
   "source": [
    "# Wave Propagation in One Direction - To Simulate Mexican Wave"
   ]
  }
 ],
 "metadata": {
  "kernelspec": {
   "display_name": "base",
   "language": "python",
   "name": "python3"
  },
  "language_info": {
   "codemirror_mode": {
    "name": "ipython",
    "version": 3
   },
   "file_extension": ".py",
   "mimetype": "text/x-python",
   "name": "python",
   "nbconvert_exporter": "python",
   "pygments_lexer": "ipython3",
   "version": "3.12.4"
  }
 },
 "nbformat": 4,
 "nbformat_minor": 2
}
